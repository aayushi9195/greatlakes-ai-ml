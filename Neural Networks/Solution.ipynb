{
 "cells": [
  {
   "cell_type": "code",
   "execution_count": 1,
   "metadata": {},
   "outputs": [
    {
     "name": "stderr",
     "output_type": "stream",
     "text": [
      "Using TensorFlow backend.\n"
     ]
    }
   ],
   "source": [
    "# Importing required libraries\n",
    "import pandas as pd\n",
    "import numpy as np\n",
    "from math import sqrt\n",
    "from sklearn.model_selection import train_test_split\n",
    "from sklearn.preprocessing import StandardScaler\n",
    "from sklearn.metrics import mean_squared_error\n",
    "from keras.models import Sequential\n",
    "from keras.layers import Dense, Flatten"
   ]
  },
  {
   "cell_type": "code",
   "execution_count": 2,
   "metadata": {},
   "outputs": [],
   "source": [
    "# Answer 1\n",
    "\n",
    "# Loading up the csv file\n",
    "stock_prices_df = pd.read_csv('prices.csv')  "
   ]
  },
  {
   "cell_type": "code",
   "execution_count": 3,
   "metadata": {},
   "outputs": [
    {
     "data": {
      "text/html": [
       "<div>\n",
       "<style scoped>\n",
       "    .dataframe tbody tr th:only-of-type {\n",
       "        vertical-align: middle;\n",
       "    }\n",
       "\n",
       "    .dataframe tbody tr th {\n",
       "        vertical-align: top;\n",
       "    }\n",
       "\n",
       "    .dataframe thead th {\n",
       "        text-align: right;\n",
       "    }\n",
       "</style>\n",
       "<table border=\"1\" class=\"dataframe\">\n",
       "  <thead>\n",
       "    <tr style=\"text-align: right;\">\n",
       "      <th></th>\n",
       "      <th>date</th>\n",
       "      <th>symbol</th>\n",
       "      <th>open</th>\n",
       "      <th>close</th>\n",
       "      <th>low</th>\n",
       "      <th>high</th>\n",
       "      <th>volume</th>\n",
       "    </tr>\n",
       "  </thead>\n",
       "  <tbody>\n",
       "    <tr>\n",
       "      <td>0</td>\n",
       "      <td>2016-01-05 00:00:00</td>\n",
       "      <td>WLTW</td>\n",
       "      <td>123.430000</td>\n",
       "      <td>125.839996</td>\n",
       "      <td>122.309998</td>\n",
       "      <td>126.250000</td>\n",
       "      <td>2163600.0</td>\n",
       "    </tr>\n",
       "    <tr>\n",
       "      <td>1</td>\n",
       "      <td>2016-01-06 00:00:00</td>\n",
       "      <td>WLTW</td>\n",
       "      <td>125.239998</td>\n",
       "      <td>119.980003</td>\n",
       "      <td>119.940002</td>\n",
       "      <td>125.540001</td>\n",
       "      <td>2386400.0</td>\n",
       "    </tr>\n",
       "    <tr>\n",
       "      <td>2</td>\n",
       "      <td>2016-01-07 00:00:00</td>\n",
       "      <td>WLTW</td>\n",
       "      <td>116.379997</td>\n",
       "      <td>114.949997</td>\n",
       "      <td>114.930000</td>\n",
       "      <td>119.739998</td>\n",
       "      <td>2489500.0</td>\n",
       "    </tr>\n",
       "    <tr>\n",
       "      <td>3</td>\n",
       "      <td>2016-01-08 00:00:00</td>\n",
       "      <td>WLTW</td>\n",
       "      <td>115.480003</td>\n",
       "      <td>116.620003</td>\n",
       "      <td>113.500000</td>\n",
       "      <td>117.440002</td>\n",
       "      <td>2006300.0</td>\n",
       "    </tr>\n",
       "    <tr>\n",
       "      <td>4</td>\n",
       "      <td>2016-01-11 00:00:00</td>\n",
       "      <td>WLTW</td>\n",
       "      <td>117.010002</td>\n",
       "      <td>114.970001</td>\n",
       "      <td>114.089996</td>\n",
       "      <td>117.330002</td>\n",
       "      <td>1408600.0</td>\n",
       "    </tr>\n",
       "  </tbody>\n",
       "</table>\n",
       "</div>"
      ],
      "text/plain": [
       "                  date symbol        open       close         low        high  \\\n",
       "0  2016-01-05 00:00:00   WLTW  123.430000  125.839996  122.309998  126.250000   \n",
       "1  2016-01-06 00:00:00   WLTW  125.239998  119.980003  119.940002  125.540001   \n",
       "2  2016-01-07 00:00:00   WLTW  116.379997  114.949997  114.930000  119.739998   \n",
       "3  2016-01-08 00:00:00   WLTW  115.480003  116.620003  113.500000  117.440002   \n",
       "4  2016-01-11 00:00:00   WLTW  117.010002  114.970001  114.089996  117.330002   \n",
       "\n",
       "      volume  \n",
       "0  2163600.0  \n",
       "1  2386400.0  \n",
       "2  2489500.0  \n",
       "3  2006300.0  \n",
       "4  1408600.0  "
      ]
     },
     "execution_count": 3,
     "metadata": {},
     "output_type": "execute_result"
    }
   ],
   "source": [
    "# Checking that the dataframe is initialised correctly\n",
    "stock_prices_df.head()"
   ]
  },
  {
   "cell_type": "code",
   "execution_count": 4,
   "metadata": {},
   "outputs": [
    {
     "data": {
      "text/plain": [
       "(851264, 7)"
      ]
     },
     "execution_count": 4,
     "metadata": {},
     "output_type": "execute_result"
    }
   ],
   "source": [
    "# Checking the number of rows and columns\n",
    "stock_prices_df.shape"
   ]
  },
  {
   "cell_type": "code",
   "execution_count": 5,
   "metadata": {},
   "outputs": [
    {
     "name": "stdout",
     "output_type": "stream",
     "text": [
      "<class 'pandas.core.frame.DataFrame'>\n",
      "RangeIndex: 851264 entries, 0 to 851263\n",
      "Data columns (total 7 columns):\n",
      "date      851264 non-null object\n",
      "symbol    851264 non-null object\n",
      "open      851264 non-null float64\n",
      "close     851264 non-null float64\n",
      "low       851264 non-null float64\n",
      "high      851264 non-null float64\n",
      "volume    851264 non-null float64\n",
      "dtypes: float64(5), object(2)\n",
      "memory usage: 45.5+ MB\n"
     ]
    }
   ],
   "source": [
    "# Checking the info\n",
    "stock_prices_df.info()"
   ]
  },
  {
   "cell_type": "code",
   "execution_count": 6,
   "metadata": {},
   "outputs": [
    {
     "data": {
      "text/html": [
       "<div>\n",
       "<style scoped>\n",
       "    .dataframe tbody tr th:only-of-type {\n",
       "        vertical-align: middle;\n",
       "    }\n",
       "\n",
       "    .dataframe tbody tr th {\n",
       "        vertical-align: top;\n",
       "    }\n",
       "\n",
       "    .dataframe thead th {\n",
       "        text-align: right;\n",
       "    }\n",
       "</style>\n",
       "<table border=\"1\" class=\"dataframe\">\n",
       "  <thead>\n",
       "    <tr style=\"text-align: right;\">\n",
       "      <th></th>\n",
       "      <th>count</th>\n",
       "      <th>mean</th>\n",
       "      <th>std</th>\n",
       "      <th>min</th>\n",
       "      <th>25%</th>\n",
       "      <th>50%</th>\n",
       "      <th>75%</th>\n",
       "      <th>max</th>\n",
       "    </tr>\n",
       "  </thead>\n",
       "  <tbody>\n",
       "    <tr>\n",
       "      <td>open</td>\n",
       "      <td>851264.0</td>\n",
       "      <td>7.083699e+01</td>\n",
       "      <td>8.369588e+01</td>\n",
       "      <td>0.85</td>\n",
       "      <td>3.384000e+01</td>\n",
       "      <td>5.277000e+01</td>\n",
       "      <td>7.988000e+01</td>\n",
       "      <td>1.584440e+03</td>\n",
       "    </tr>\n",
       "    <tr>\n",
       "      <td>close</td>\n",
       "      <td>851264.0</td>\n",
       "      <td>7.085711e+01</td>\n",
       "      <td>8.368969e+01</td>\n",
       "      <td>0.86</td>\n",
       "      <td>3.385000e+01</td>\n",
       "      <td>5.280000e+01</td>\n",
       "      <td>7.989000e+01</td>\n",
       "      <td>1.578130e+03</td>\n",
       "    </tr>\n",
       "    <tr>\n",
       "      <td>low</td>\n",
       "      <td>851264.0</td>\n",
       "      <td>7.011841e+01</td>\n",
       "      <td>8.287729e+01</td>\n",
       "      <td>0.83</td>\n",
       "      <td>3.348000e+01</td>\n",
       "      <td>5.223000e+01</td>\n",
       "      <td>7.911000e+01</td>\n",
       "      <td>1.549940e+03</td>\n",
       "    </tr>\n",
       "    <tr>\n",
       "      <td>high</td>\n",
       "      <td>851264.0</td>\n",
       "      <td>7.154348e+01</td>\n",
       "      <td>8.446550e+01</td>\n",
       "      <td>0.88</td>\n",
       "      <td>3.419000e+01</td>\n",
       "      <td>5.331000e+01</td>\n",
       "      <td>8.061000e+01</td>\n",
       "      <td>1.600930e+03</td>\n",
       "    </tr>\n",
       "    <tr>\n",
       "      <td>volume</td>\n",
       "      <td>851264.0</td>\n",
       "      <td>5.415113e+06</td>\n",
       "      <td>1.249468e+07</td>\n",
       "      <td>0.00</td>\n",
       "      <td>1.221500e+06</td>\n",
       "      <td>2.476250e+06</td>\n",
       "      <td>5.222500e+06</td>\n",
       "      <td>8.596434e+08</td>\n",
       "    </tr>\n",
       "  </tbody>\n",
       "</table>\n",
       "</div>"
      ],
      "text/plain": [
       "           count          mean           std   min           25%  \\\n",
       "open    851264.0  7.083699e+01  8.369588e+01  0.85  3.384000e+01   \n",
       "close   851264.0  7.085711e+01  8.368969e+01  0.86  3.385000e+01   \n",
       "low     851264.0  7.011841e+01  8.287729e+01  0.83  3.348000e+01   \n",
       "high    851264.0  7.154348e+01  8.446550e+01  0.88  3.419000e+01   \n",
       "volume  851264.0  5.415113e+06  1.249468e+07  0.00  1.221500e+06   \n",
       "\n",
       "                 50%           75%           max  \n",
       "open    5.277000e+01  7.988000e+01  1.584440e+03  \n",
       "close   5.280000e+01  7.989000e+01  1.578130e+03  \n",
       "low     5.223000e+01  7.911000e+01  1.549940e+03  \n",
       "high    5.331000e+01  8.061000e+01  1.600930e+03  \n",
       "volume  2.476250e+06  5.222500e+06  8.596434e+08  "
      ]
     },
     "execution_count": 6,
     "metadata": {},
     "output_type": "execute_result"
    }
   ],
   "source": [
    "# Checking statistical summary\n",
    "stock_prices_df.describe().T"
   ]
  },
  {
   "cell_type": "code",
   "execution_count": 7,
   "metadata": {},
   "outputs": [],
   "source": [
    "# All the features show a similar distribution - the mean values > median which implies a tail on the right. \n",
    "# There is a significant difference between min and max values.\n",
    "# The values of volume are far greater than those of other columns."
   ]
  },
  {
   "cell_type": "code",
   "execution_count": 8,
   "metadata": {},
   "outputs": [
    {
     "data": {
      "text/html": [
       "<div>\n",
       "<style scoped>\n",
       "    .dataframe tbody tr th:only-of-type {\n",
       "        vertical-align: middle;\n",
       "    }\n",
       "\n",
       "    .dataframe tbody tr th {\n",
       "        vertical-align: top;\n",
       "    }\n",
       "\n",
       "    .dataframe thead th {\n",
       "        text-align: right;\n",
       "    }\n",
       "</style>\n",
       "<table border=\"1\" class=\"dataframe\">\n",
       "  <thead>\n",
       "    <tr style=\"text-align: right;\">\n",
       "      <th></th>\n",
       "      <th>open</th>\n",
       "      <th>close</th>\n",
       "      <th>low</th>\n",
       "      <th>high</th>\n",
       "      <th>volume</th>\n",
       "    </tr>\n",
       "  </thead>\n",
       "  <tbody>\n",
       "    <tr>\n",
       "      <td>open</td>\n",
       "      <td>1.000000</td>\n",
       "      <td>0.999849</td>\n",
       "      <td>0.999916</td>\n",
       "      <td>0.999930</td>\n",
       "      <td>-0.059950</td>\n",
       "    </tr>\n",
       "    <tr>\n",
       "      <td>close</td>\n",
       "      <td>0.999849</td>\n",
       "      <td>1.000000</td>\n",
       "      <td>0.999928</td>\n",
       "      <td>0.999927</td>\n",
       "      <td>-0.060154</td>\n",
       "    </tr>\n",
       "    <tr>\n",
       "      <td>low</td>\n",
       "      <td>0.999916</td>\n",
       "      <td>0.999928</td>\n",
       "      <td>1.000000</td>\n",
       "      <td>0.999892</td>\n",
       "      <td>-0.060760</td>\n",
       "    </tr>\n",
       "    <tr>\n",
       "      <td>high</td>\n",
       "      <td>0.999930</td>\n",
       "      <td>0.999927</td>\n",
       "      <td>0.999892</td>\n",
       "      <td>1.000000</td>\n",
       "      <td>-0.059452</td>\n",
       "    </tr>\n",
       "    <tr>\n",
       "      <td>volume</td>\n",
       "      <td>-0.059950</td>\n",
       "      <td>-0.060154</td>\n",
       "      <td>-0.060760</td>\n",
       "      <td>-0.059452</td>\n",
       "      <td>1.000000</td>\n",
       "    </tr>\n",
       "  </tbody>\n",
       "</table>\n",
       "</div>"
      ],
      "text/plain": [
       "            open     close       low      high    volume\n",
       "open    1.000000  0.999849  0.999916  0.999930 -0.059950\n",
       "close   0.999849  1.000000  0.999928  0.999927 -0.060154\n",
       "low     0.999916  0.999928  1.000000  0.999892 -0.060760\n",
       "high    0.999930  0.999927  0.999892  1.000000 -0.059452\n",
       "volume -0.059950 -0.060154 -0.060760 -0.059452  1.000000"
      ]
     },
     "execution_count": 8,
     "metadata": {},
     "output_type": "execute_result"
    }
   ],
   "source": [
    "# Checking co-relations\n",
    "stock_prices_df.corr()"
   ]
  },
  {
   "cell_type": "code",
   "execution_count": 9,
   "metadata": {},
   "outputs": [],
   "source": [
    "# Open, close, low and high are highly co-related with each other and also with the target.\n",
    "# Volume does not have a strong relation with any other feature or target."
   ]
  },
  {
   "cell_type": "code",
   "execution_count": 10,
   "metadata": {},
   "outputs": [
    {
     "data": {
      "text/plain": [
       "False"
      ]
     },
     "execution_count": 10,
     "metadata": {},
     "output_type": "execute_result"
    }
   ],
   "source": [
    "# Answer 2\n",
    "\n",
    "# Checking for null values\n",
    "stock_prices_df.isnull().values.any()"
   ]
  },
  {
   "cell_type": "code",
   "execution_count": 11,
   "metadata": {},
   "outputs": [],
   "source": [
    "# There are no null values to drop."
   ]
  },
  {
   "cell_type": "code",
   "execution_count": 12,
   "metadata": {},
   "outputs": [],
   "source": [
    "# Answer 3\n",
    "\n",
    "# Dropping string types and low co-relation columns\n",
    "stock_prices_df = stock_prices_df.drop(['date','symbol','volume'], axis=1)"
   ]
  },
  {
   "cell_type": "code",
   "execution_count": 13,
   "metadata": {},
   "outputs": [
    {
     "data": {
      "text/plain": [
       "(851264, 4)"
      ]
     },
     "execution_count": 13,
     "metadata": {},
     "output_type": "execute_result"
    }
   ],
   "source": [
    "# Checking the shape again\n",
    "stock_prices_df.shape"
   ]
  },
  {
   "cell_type": "code",
   "execution_count": 14,
   "metadata": {},
   "outputs": [
    {
     "name": "stdout",
     "output_type": "stream",
     "text": [
      "(851264, 3) (851264,)\n"
     ]
    }
   ],
   "source": [
    "# Answer 4\n",
    "\n",
    "# Separating features from target variable\n",
    "X = stock_prices_df.drop('close', axis=1)\n",
    "y = stock_prices_df['close']\n",
    "\n",
    "print(X.shape, y.shape)"
   ]
  },
  {
   "cell_type": "code",
   "execution_count": 15,
   "metadata": {},
   "outputs": [
    {
     "name": "stdout",
     "output_type": "stream",
     "text": [
      "(595884, 3) (595884,) (255380, 3) (255380,)\n"
     ]
    }
   ],
   "source": [
    "# Answer 5\n",
    "\n",
    "# Splitting the data into train and test\n",
    "test = 0.3\n",
    "seed = 1\n",
    "X_train, X_test, y_train, y_test = train_test_split(X, y, test_size=test, random_state=seed)\n",
    "\n",
    "print(X_train.shape, y_train.shape, X_test.shape, y_test.shape)"
   ]
  },
  {
   "cell_type": "code",
   "execution_count": 16,
   "metadata": {},
   "outputs": [],
   "source": [
    "# Answer 6\n",
    "\n",
    "# Scaling the features\n",
    "scaler = StandardScaler()\n",
    "scaler.fit(X_train)\n",
    "X_train = scaler.transform(X_train)\n",
    "X_test = scaler.transform(X_test)"
   ]
  },
  {
   "cell_type": "code",
   "execution_count": 17,
   "metadata": {},
   "outputs": [],
   "source": [
    "# Answer 7\n",
    "\n",
    "# Converting features and labels into numpy array\n",
    "X_train = np.array(X_train)\n",
    "X_test = np.array(X_test)\n",
    "y_train = np.array(y_train)\n",
    "y_test = np.array(y_test)"
   ]
  },
  {
   "cell_type": "code",
   "execution_count": 18,
   "metadata": {},
   "outputs": [
    {
     "name": "stdout",
     "output_type": "stream",
     "text": [
      "(595884, 3, 1) (255380, 3, 1)\n"
     ]
    }
   ],
   "source": [
    "# Answer 8\n",
    "\n",
    "# Reshaping the features for input in the neural network model \n",
    "X_train = X_train.reshape(X_train.shape[0], X_train.shape[1], 1)\n",
    "X_test = X_test.reshape(X_test.shape[0], X_test.shape[1], 1)\n",
    "\n",
    "print(X_train.shape, X_test.shape)"
   ]
  },
  {
   "cell_type": "code",
   "execution_count": 19,
   "metadata": {},
   "outputs": [],
   "source": [
    "# Answer 9\n",
    "\n",
    "# Defining the sequential model\n",
    "model = Sequential()\n",
    "model.add(Flatten())\n",
    "model.add(Dense(1, activation='linear'))"
   ]
  },
  {
   "cell_type": "code",
   "execution_count": 20,
   "metadata": {},
   "outputs": [],
   "source": [
    "# Answer 10\n",
    "\n",
    "# Compiling the model\n",
    "model.compile(optimizer='sgd', loss='mean_squared_error')"
   ]
  },
  {
   "cell_type": "code",
   "execution_count": 21,
   "metadata": {},
   "outputs": [],
   "source": [
    "# Model summary is printed after model fitting and evaluation"
   ]
  },
  {
   "cell_type": "code",
   "execution_count": 22,
   "metadata": {
    "scrolled": true
   },
   "outputs": [
    {
     "name": "stdout",
     "output_type": "stream",
     "text": [
      "Epoch 1/50\n",
      "595884/595884 [==============================] - 9s 14us/step - loss: 41.0682 0s - loss:\n",
      "Epoch 2/50\n",
      "595884/595884 [==============================] - 7s 12us/step - loss: 0.9611\n",
      "Epoch 3/50\n",
      "595884/595884 [==============================] - 8s 14us/step - loss: 0.9548\n",
      "Epoch 4/50\n",
      "595884/595884 [==============================] - 8s 14us/step - loss: 0.9462\n",
      "Epoch 5/50\n",
      "595884/595884 [==============================] - 8s 14us/step - loss: 0.9409\n",
      "Epoch 6/50\n",
      "595884/595884 [==============================] - 8s 14us/step - loss: 0.9339\n",
      "Epoch 7/50\n",
      "595884/595884 [==============================] - 8s 14us/step - loss: 0.9265\n",
      "Epoch 8/50\n",
      "595884/595884 [==============================] - 7s 12us/step - loss: 0.9207\n",
      "Epoch 9/50\n",
      "595884/595884 [==============================] - 7s 11us/step - loss: 0.9170\n",
      "Epoch 10/50\n",
      "595884/595884 [==============================] - 8s 14us/step - loss: 0.9098\n",
      "Epoch 11/50\n",
      "595884/595884 [==============================] - 9s 16us/step - loss: 0.9021\n",
      "Epoch 12/50\n",
      "595884/595884 [==============================] - 9s 15us/step - loss: 0.8968\n",
      "Epoch 13/50\n",
      "595884/595884 [==============================] - 8s 13us/step - loss: 0.8913\n",
      "Epoch 14/50\n",
      "595884/595884 [==============================] - 8s 14us/step - loss: 0.8837\n",
      "Epoch 15/50\n",
      "595884/595884 [==============================] - 8s 13us/step - loss: 0.8792\n",
      "Epoch 16/50\n",
      "595884/595884 [==============================] - 8s 14us/step - loss: 0.8745\n",
      "Epoch 17/50\n",
      "595884/595884 [==============================] - 8s 14us/step - loss: 0.8685\n",
      "Epoch 18/50\n",
      "595884/595884 [==============================] - 8s 14us/step - loss: 0.8622\n",
      "Epoch 19/50\n",
      "595884/595884 [==============================] - 8s 14us/step - loss: 0.8560\n",
      "Epoch 20/50\n",
      "595884/595884 [==============================] - 9s 15us/step - loss: 0.8506\n",
      "Epoch 21/50\n",
      "595884/595884 [==============================] - 8s 13us/step - loss: 0.8466\n",
      "Epoch 22/50\n",
      "595884/595884 [==============================] - 8s 14us/step - loss: 0.8417\n",
      "Epoch 23/50\n",
      "595884/595884 [==============================] - 7s 12us/step - loss: 0.8346\n",
      "Epoch 24/50\n",
      "595884/595884 [==============================] - 6s 10us/step - loss: 0.8303\n",
      "Epoch 25/50\n",
      "595884/595884 [==============================] - 8s 14us/step - loss: 0.8247\n",
      "Epoch 26/50\n",
      "595884/595884 [==============================] - 8s 14us/step - loss: 0.8196\n",
      "Epoch 27/50\n",
      "595884/595884 [==============================] - 8s 13us/step - loss: 0.8154\n",
      "Epoch 28/50\n",
      "595884/595884 [==============================] - 8s 13us/step - loss: 0.8106\n",
      "Epoch 29/50\n",
      "595884/595884 [==============================] - 8s 13us/step - loss: 0.8069\n",
      "Epoch 30/50\n",
      "595884/595884 [==============================] - 7s 12us/step - loss: 0.8001: 0s -\n",
      "Epoch 31/50\n",
      "595884/595884 [==============================] - 8s 13us/step - loss: 0.7961\n",
      "Epoch 32/50\n",
      "595884/595884 [==============================] - 8s 13us/step - loss: 0.7904:\n",
      "Epoch 33/50\n",
      "595884/595884 [==============================] - 8s 13us/step - loss: 0.7867\n",
      "Epoch 34/50\n",
      "595884/595884 [==============================] - 8s 13us/step - loss: 0.7816\n",
      "Epoch 35/50\n",
      "595884/595884 [==============================] - 8s 13us/step - loss: 0.7767\n",
      "Epoch 36/50\n",
      "595884/595884 [==============================] - 7s 12us/step - loss: 0.7729\n",
      "Epoch 37/50\n",
      "595884/595884 [==============================] - 7s 12us/step - loss: 0.7703\n",
      "Epoch 38/50\n",
      "595884/595884 [==============================] - 8s 13us/step - loss: 0.7650\n",
      "Epoch 39/50\n",
      "595884/595884 [==============================] - 8s 13us/step - loss: 0.7604\n",
      "Epoch 40/50\n",
      "595884/595884 [==============================] - 7s 12us/step - loss: 0.7553\n",
      "Epoch 41/50\n",
      "595884/595884 [==============================] - 8s 13us/step - loss: 0.7526\n",
      "Epoch 42/50\n",
      "595884/595884 [==============================] - 7s 13us/step - loss: 0.7476\n",
      "Epoch 43/50\n",
      "595884/595884 [==============================] - 8s 13us/step - loss: 0.7436\n",
      "Epoch 44/50\n",
      "595884/595884 [==============================] - 7s 12us/step - loss: 0.7396\n",
      "Epoch 45/50\n",
      "595884/595884 [==============================] - 7s 12us/step - loss: 0.7358\n",
      "Epoch 46/50\n",
      "595884/595884 [==============================] - 7s 12us/step - loss: 0.7324\n",
      "Epoch 47/50\n",
      "595884/595884 [==============================] - 8s 13us/step - loss: 0.7279\n",
      "Epoch 48/50\n",
      "595884/595884 [==============================] - 8s 13us/step - loss: 0.7245\n",
      "Epoch 49/50\n",
      "595884/595884 [==============================] - 7s 13us/step - loss: 0.7203\n",
      "Epoch 50/50\n",
      "595884/595884 [==============================] - 8s 14us/step - loss: 0.7161\n"
     ]
    },
    {
     "data": {
      "text/plain": [
       "<keras.callbacks.callbacks.History at 0x2978e42af48>"
      ]
     },
     "execution_count": 22,
     "metadata": {},
     "output_type": "execute_result"
    }
   ],
   "source": [
    "# Answer 12\n",
    "\n",
    "# Fitting the model on train data\n",
    "model.fit(X_train, y_train, epochs=50, batch_size=128)"
   ]
  },
  {
   "cell_type": "code",
   "execution_count": 23,
   "metadata": {},
   "outputs": [
    {
     "name": "stdout",
     "output_type": "stream",
     "text": [
      "255380/255380 [==============================] - 6s 23us/step\n",
      "Loss on test:  0.7452197583245077\n",
      "RMSE on train:  0.8414695399683783\n",
      "RMSE on test:  0.8632611278628417\n"
     ]
    }
   ],
   "source": [
    "# Answer 13\n",
    "\n",
    "# model.metrics_names = 'Loss' for this dataset\n",
    "# Evaluating the model on test data\n",
    "loss = model.evaluate(X_test, y_test)\n",
    "print('Loss on test: ', loss)\n",
    "\n",
    "# Predicting the output on test data\n",
    "y_pred_test = model.predict(X_test)\n",
    "\n",
    "# Calculating the root mean squared error on train data\n",
    "y_pred_train = model.predict(X_train)\n",
    "rmse_train = sqrt(mean_squared_error(y_train, y_pred_train))\n",
    "print('RMSE on train: ', rmse_train)\n",
    "\n",
    "# Calculating the root mean squared error on test data\n",
    "rmse_test = sqrt(mean_squared_error(y_test, y_pred_test))\n",
    "print('RMSE on test: ', rmse_test)"
   ]
  },
  {
   "cell_type": "code",
   "execution_count": 24,
   "metadata": {},
   "outputs": [],
   "source": [
    "# The difference between RMSE of train and test data is not too high, this implies that our model does not overfit.\n",
    "# Also, as the target variables are not scaled, they have a wide range of 0.86 going up to 1578. With respect to this scale,\n",
    "# RMSE is quite low (Ref: https://stats.stackexchange.com/questions/56302/what-are-good-rmse-values).\n",
    "# We can confirm this by comparing some actual and predicted values."
   ]
  },
  {
   "cell_type": "code",
   "execution_count": 26,
   "metadata": {
    "scrolled": true
   },
   "outputs": [
    {
     "name": "stdout",
     "output_type": "stream",
     "text": [
      "            Actual   Predicted\n",
      "0        40.020000   40.345940\n",
      "1       292.440002  292.763794\n",
      "2        71.589996   70.753822\n",
      "3        53.529999   53.267731\n",
      "4        45.849998   45.432621\n",
      "...            ...         ...\n",
      "255375   68.080002   67.698105\n",
      "255376   51.849998   51.420372\n",
      "255377   68.989998   68.928719\n",
      "255378   17.549999   17.642155\n",
      "255379   56.259998   56.538441\n",
      "\n",
      "[255380 rows x 2 columns]\n"
     ]
    },
    {
     "data": {
      "text/plain": [
       "<matplotlib.axes._subplots.AxesSubplot at 0x29793725708>"
      ]
     },
     "execution_count": 26,
     "metadata": {},
     "output_type": "execute_result"
    },
    {
     "data": {
      "image/png": "[encoded data removed]",
      "text/plain": [
       "<Figure size 1152x720 with 1 Axes>"
      ]
     },
     "metadata": {
      "needs_background": "light"
     },
     "output_type": "display_data"
    }
   ],
   "source": [
    "# Evaluating the model by comparing actual and predicted values\n",
    "df = pd.DataFrame({'Actual': y_test.flatten(), 'Predicted': y_pred_test.flatten()})\n",
    "\n",
    "# Visually comparing some values\n",
    "print(df)\n",
    "\n",
    "# Considering only top 50 for plotting\n",
    "df = df.head(50)\n",
    "df.plot.bar(figsize=(16,10)) "
   ]
  },
  {
   "cell_type": "code",
   "execution_count": 27,
   "metadata": {},
   "outputs": [],
   "source": [
    "# We can say that the model's predicted prices are very close to the actual values in most cases."
   ]
  },
  {
   "cell_type": "code",
   "execution_count": 28,
   "metadata": {},
   "outputs": [
    {
     "name": "stdout",
     "output_type": "stream",
     "text": [
      "Model: \"sequential_1\"\n",
      "_________________________________________________________________\n",
      "Layer (type)                 Output Shape              Param #   \n",
      "=================================================================\n",
      "flatten_1 (Flatten)          (None, 3)                 0         \n",
      "_________________________________________________________________\n",
      "dense_1 (Dense)              (None, 1)                 4         \n",
      "=================================================================\n",
      "Total params: 4\n",
      "Trainable params: 4\n",
      "Non-trainable params: 0\n",
      "_________________________________________________________________\n"
     ]
    }
   ],
   "source": [
    "# Answer 11\n",
    "\n",
    "# Printing the summary of the model\n",
    "model.summary()"
   ]
  },
  {
   "cell_type": "code",
   "execution_count": 29,
   "metadata": {},
   "outputs": [],
   "source": [
    "# The flatten layer expects a 3-dimensional input and outputs 3 weights. So, the next layer has 3 input weights and 1 \n",
    "# weight of connection with bias. As it has only 1 neuron, it gives us 1*(3+1) = 4 parameters."
   ]
  },
  {
   "cell_type": "code",
   "execution_count": 30,
   "metadata": {},
   "outputs": [
    {
     "name": "stdout",
     "output_type": "stream",
     "text": [
      "Expected = 198.00, Predicted = 198.07\n",
      "Expected = 40.02, Predicted = 40.12\n",
      "Expected = 56.60, Predicted = 56.34\n",
      "Expected = 13.79, Predicted = 13.71\n",
      "Expected = 153.15, Predicted = 153.89\n"
     ]
    }
   ],
   "source": [
    "# Answer 14\n",
    "\n",
    "# Giving new inputs to predict the prices\n",
    "new_data = pd.DataFrame([[198,195.99,199.99],\n",
    "                        [40.330002,39.630001,40.549999],\n",
    "                        [55.93,55.919998,56.810001],\n",
    "                        [13.68,13.55,13.88],\n",
    "                        [154.580002,152.770004,154.699997]], \n",
    "                        columns=['open','low','high'])\n",
    "new_data = scaler.transform(new_data)\n",
    "new_data = np.array(new_data)\n",
    "new_data = new_data.reshape(new_data.shape[0], new_data.shape[1], 1)\n",
    "actuals = [198,40.02,56.599998,13.79,153.149994]\n",
    "predictions = model.predict(new_data)\n",
    "for i in range(5):\n",
    "    print('Expected = %.2f, Predicted = %.2f' % (actuals[i], predictions[i])) "
   ]
  },
  {
   "cell_type": "code",
   "execution_count": 31,
   "metadata": {},
   "outputs": [],
   "source": [
    "# The model is predicting prices quite close to the actual prices. Nevertheless, the loss is around 0.74 which can be\n",
    "# improved. Increasing the number of hidden layers, neurons, modifying the learning rate, adding momentum, etc. might\n",
    "# help us in further reducing the loss."
   ]
  }
 ],
 "metadata": {
  "kernelspec": {
   "display_name": "Python 3",
   "language": "python",
   "name": "python3"
  },
  "language_info": {
   "codemirror_mode": {
    "name": "ipython",
    "version": 3
   },
   "file_extension": ".py",
   "mimetype": "text/x-python",
   "name": "python",
   "nbconvert_exporter": "python",
   "pygments_lexer": "ipython3",
   "version": "3.7.4"
  }
 },
 "nbformat": 4,
 "nbformat_minor": 2
}
