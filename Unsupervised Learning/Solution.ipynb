{
 "cells": [
  {
   "cell_type": "code",
   "execution_count": 1,
   "metadata": {},
   "outputs": [],
   "source": [
    "# Importing required libraries\n",
    "import pandas as pd\n",
    "import numpy as np\n",
    "import seaborn as sns\n",
    "import matplotlib.pyplot as plt\n",
    "from sklearn.model_selection import train_test_split\n",
    "from sklearn.preprocessing import StandardScaler \n",
    "from sklearn.decomposition import PCA \n",
    "from scipy.spatial.distance import cdist\n",
    "from sklearn.cluster import KMeans\n",
    "from sklearn.svm import SVC\n",
    "from sklearn.model_selection import GridSearchCV\n",
    "from sklearn import metrics\n",
    "from sklearn.linear_model import LogisticRegression\n",
    "\n",
    "# Suppressing warnings\n",
    "import warnings\n",
    "warnings.filterwarnings('ignore')"
   ]
  },
  {
   "cell_type": "code",
   "execution_count": 2,
   "metadata": {},
   "outputs": [],
   "source": [
    "# Answer 1\n",
    "\n",
    "# Reading the text file into a dataframe\n",
    "bank_df = pd.read_csv(\"Qualitative_Bankruptcy.data.txt\", sep = \",\", header = None)"
   ]
  },
  {
   "cell_type": "code",
   "execution_count": 3,
   "metadata": {},
   "outputs": [
    {
     "data": {
      "text/html": [
       "<div>\n",
       "<style scoped>\n",
       "    .dataframe tbody tr th:only-of-type {\n",
       "        vertical-align: middle;\n",
       "    }\n",
       "\n",
       "    .dataframe tbody tr th {\n",
       "        vertical-align: top;\n",
       "    }\n",
       "\n",
       "    .dataframe thead th {\n",
       "        text-align: right;\n",
       "    }\n",
       "</style>\n",
       "<table border=\"1\" class=\"dataframe\">\n",
       "  <thead>\n",
       "    <tr style=\"text-align: right;\">\n",
       "      <th></th>\n",
       "      <th>0</th>\n",
       "      <th>1</th>\n",
       "      <th>2</th>\n",
       "      <th>3</th>\n",
       "      <th>4</th>\n",
       "      <th>5</th>\n",
       "      <th>6</th>\n",
       "    </tr>\n",
       "  </thead>\n",
       "  <tbody>\n",
       "    <tr>\n",
       "      <td>0</td>\n",
       "      <td>P</td>\n",
       "      <td>P</td>\n",
       "      <td>A</td>\n",
       "      <td>A</td>\n",
       "      <td>A</td>\n",
       "      <td>P</td>\n",
       "      <td>NB</td>\n",
       "    </tr>\n",
       "    <tr>\n",
       "      <td>1</td>\n",
       "      <td>N</td>\n",
       "      <td>N</td>\n",
       "      <td>A</td>\n",
       "      <td>A</td>\n",
       "      <td>A</td>\n",
       "      <td>N</td>\n",
       "      <td>NB</td>\n",
       "    </tr>\n",
       "    <tr>\n",
       "      <td>2</td>\n",
       "      <td>A</td>\n",
       "      <td>A</td>\n",
       "      <td>A</td>\n",
       "      <td>A</td>\n",
       "      <td>A</td>\n",
       "      <td>A</td>\n",
       "      <td>NB</td>\n",
       "    </tr>\n",
       "    <tr>\n",
       "      <td>3</td>\n",
       "      <td>P</td>\n",
       "      <td>P</td>\n",
       "      <td>P</td>\n",
       "      <td>P</td>\n",
       "      <td>P</td>\n",
       "      <td>P</td>\n",
       "      <td>NB</td>\n",
       "    </tr>\n",
       "    <tr>\n",
       "      <td>4</td>\n",
       "      <td>N</td>\n",
       "      <td>N</td>\n",
       "      <td>P</td>\n",
       "      <td>P</td>\n",
       "      <td>P</td>\n",
       "      <td>N</td>\n",
       "      <td>NB</td>\n",
       "    </tr>\n",
       "  </tbody>\n",
       "</table>\n",
       "</div>"
      ],
      "text/plain": [
       "   0  1  2  3  4  5   6\n",
       "0  P  P  A  A  A  P  NB\n",
       "1  N  N  A  A  A  N  NB\n",
       "2  A  A  A  A  A  A  NB\n",
       "3  P  P  P  P  P  P  NB\n",
       "4  N  N  P  P  P  N  NB"
      ]
     },
     "execution_count": 3,
     "metadata": {},
     "output_type": "execute_result"
    }
   ],
   "source": [
    "# Confirming that the data is loaded correctly\n",
    "bank_df.head()"
   ]
  },
  {
   "cell_type": "markdown",
   "metadata": {},
   "source": [
    "Considering the following column names for each attribute: <br/>\n",
    "Industrial Risk - IR <br/>\n",
    "Management Risk - MR <br/>\n",
    "Financial Flexibility - FF <br/>\n",
    "Credibility - CR <br/>\n",
    "Competitiveness - CO <br/>\n",
    "Operating Risk - OR <br/>"
   ]
  },
  {
   "cell_type": "code",
   "execution_count": 4,
   "metadata": {},
   "outputs": [
    {
     "data": {
      "text/html": [
       "<div>\n",
       "<style scoped>\n",
       "    .dataframe tbody tr th:only-of-type {\n",
       "        vertical-align: middle;\n",
       "    }\n",
       "\n",
       "    .dataframe tbody tr th {\n",
       "        vertical-align: top;\n",
       "    }\n",
       "\n",
       "    .dataframe thead th {\n",
       "        text-align: right;\n",
       "    }\n",
       "</style>\n",
       "<table border=\"1\" class=\"dataframe\">\n",
       "  <thead>\n",
       "    <tr style=\"text-align: right;\">\n",
       "      <th></th>\n",
       "      <th>IR</th>\n",
       "      <th>MR</th>\n",
       "      <th>FF</th>\n",
       "      <th>CR</th>\n",
       "      <th>CO</th>\n",
       "      <th>OR</th>\n",
       "      <th>Class</th>\n",
       "    </tr>\n",
       "  </thead>\n",
       "  <tbody>\n",
       "    <tr>\n",
       "      <td>0</td>\n",
       "      <td>P</td>\n",
       "      <td>P</td>\n",
       "      <td>A</td>\n",
       "      <td>A</td>\n",
       "      <td>A</td>\n",
       "      <td>P</td>\n",
       "      <td>NB</td>\n",
       "    </tr>\n",
       "    <tr>\n",
       "      <td>1</td>\n",
       "      <td>N</td>\n",
       "      <td>N</td>\n",
       "      <td>A</td>\n",
       "      <td>A</td>\n",
       "      <td>A</td>\n",
       "      <td>N</td>\n",
       "      <td>NB</td>\n",
       "    </tr>\n",
       "    <tr>\n",
       "      <td>2</td>\n",
       "      <td>A</td>\n",
       "      <td>A</td>\n",
       "      <td>A</td>\n",
       "      <td>A</td>\n",
       "      <td>A</td>\n",
       "      <td>A</td>\n",
       "      <td>NB</td>\n",
       "    </tr>\n",
       "    <tr>\n",
       "      <td>3</td>\n",
       "      <td>P</td>\n",
       "      <td>P</td>\n",
       "      <td>P</td>\n",
       "      <td>P</td>\n",
       "      <td>P</td>\n",
       "      <td>P</td>\n",
       "      <td>NB</td>\n",
       "    </tr>\n",
       "    <tr>\n",
       "      <td>4</td>\n",
       "      <td>N</td>\n",
       "      <td>N</td>\n",
       "      <td>P</td>\n",
       "      <td>P</td>\n",
       "      <td>P</td>\n",
       "      <td>N</td>\n",
       "      <td>NB</td>\n",
       "    </tr>\n",
       "  </tbody>\n",
       "</table>\n",
       "</div>"
      ],
      "text/plain": [
       "  IR MR FF CR CO OR Class\n",
       "0  P  P  A  A  A  P    NB\n",
       "1  N  N  A  A  A  N    NB\n",
       "2  A  A  A  A  A  A    NB\n",
       "3  P  P  P  P  P  P    NB\n",
       "4  N  N  P  P  P  N    NB"
      ]
     },
     "execution_count": 4,
     "metadata": {},
     "output_type": "execute_result"
    }
   ],
   "source": [
    "# Giving appropriate headers to each column\n",
    "bank_df.columns = [\"IR\", \"MR\", \"FF\", \"CR\", \"CO\", \"OR\", \"Class\"]\n",
    "bank_df.head()"
   ]
  },
  {
   "cell_type": "code",
   "execution_count": 5,
   "metadata": {},
   "outputs": [
    {
     "data": {
      "text/plain": [
       "(250, 7)"
      ]
     },
     "execution_count": 5,
     "metadata": {},
     "output_type": "execute_result"
    }
   ],
   "source": [
    "bank_df.shape"
   ]
  },
  {
   "cell_type": "markdown",
   "metadata": {},
   "source": [
    "The dataset has 250 rows (entries) and 7 columns (features)."
   ]
  },
  {
   "cell_type": "code",
   "execution_count": 6,
   "metadata": {},
   "outputs": [
    {
     "name": "stdout",
     "output_type": "stream",
     "text": [
      "<class 'pandas.core.frame.DataFrame'>\n",
      "RangeIndex: 250 entries, 0 to 249\n",
      "Data columns (total 7 columns):\n",
      "IR       250 non-null object\n",
      "MR       250 non-null object\n",
      "FF       250 non-null object\n",
      "CR       250 non-null object\n",
      "CO       250 non-null object\n",
      "OR       250 non-null object\n",
      "Class    250 non-null object\n",
      "dtypes: object(7)\n",
      "memory usage: 13.8+ KB\n"
     ]
    }
   ],
   "source": [
    "bank_df.info()"
   ]
  },
  {
   "cell_type": "markdown",
   "metadata": {},
   "source": [
    "There are no missing or null values. <br/>\n",
    "All the attributes are of the type object, they will need to be handled before building any model."
   ]
  },
  {
   "cell_type": "code",
   "execution_count": 7,
   "metadata": {},
   "outputs": [
    {
     "data": {
      "text/html": [
       "<div>\n",
       "<style scoped>\n",
       "    .dataframe tbody tr th:only-of-type {\n",
       "        vertical-align: middle;\n",
       "    }\n",
       "\n",
       "    .dataframe tbody tr th {\n",
       "        vertical-align: top;\n",
       "    }\n",
       "\n",
       "    .dataframe thead th {\n",
       "        text-align: right;\n",
       "    }\n",
       "</style>\n",
       "<table border=\"1\" class=\"dataframe\">\n",
       "  <thead>\n",
       "    <tr style=\"text-align: right;\">\n",
       "      <th></th>\n",
       "      <th>count</th>\n",
       "      <th>unique</th>\n",
       "      <th>top</th>\n",
       "      <th>freq</th>\n",
       "    </tr>\n",
       "  </thead>\n",
       "  <tbody>\n",
       "    <tr>\n",
       "      <td>IR</td>\n",
       "      <td>250</td>\n",
       "      <td>3</td>\n",
       "      <td>N</td>\n",
       "      <td>89</td>\n",
       "    </tr>\n",
       "    <tr>\n",
       "      <td>MR</td>\n",
       "      <td>250</td>\n",
       "      <td>3</td>\n",
       "      <td>N</td>\n",
       "      <td>119</td>\n",
       "    </tr>\n",
       "    <tr>\n",
       "      <td>FF</td>\n",
       "      <td>250</td>\n",
       "      <td>3</td>\n",
       "      <td>N</td>\n",
       "      <td>119</td>\n",
       "    </tr>\n",
       "    <tr>\n",
       "      <td>CR</td>\n",
       "      <td>250</td>\n",
       "      <td>3</td>\n",
       "      <td>N</td>\n",
       "      <td>94</td>\n",
       "    </tr>\n",
       "    <tr>\n",
       "      <td>CO</td>\n",
       "      <td>250</td>\n",
       "      <td>3</td>\n",
       "      <td>N</td>\n",
       "      <td>103</td>\n",
       "    </tr>\n",
       "    <tr>\n",
       "      <td>OR</td>\n",
       "      <td>250</td>\n",
       "      <td>3</td>\n",
       "      <td>N</td>\n",
       "      <td>114</td>\n",
       "    </tr>\n",
       "    <tr>\n",
       "      <td>Class</td>\n",
       "      <td>250</td>\n",
       "      <td>2</td>\n",
       "      <td>NB</td>\n",
       "      <td>143</td>\n",
       "    </tr>\n",
       "  </tbody>\n",
       "</table>\n",
       "</div>"
      ],
      "text/plain": [
       "      count unique top freq\n",
       "IR      250      3   N   89\n",
       "MR      250      3   N  119\n",
       "FF      250      3   N  119\n",
       "CR      250      3   N   94\n",
       "CO      250      3   N  103\n",
       "OR      250      3   N  114\n",
       "Class   250      2  NB  143"
      ]
     },
     "execution_count": 7,
     "metadata": {},
     "output_type": "execute_result"
    }
   ],
   "source": [
    "bank_df.describe().T"
   ]
  },
  {
   "cell_type": "markdown",
   "metadata": {},
   "source": [
    "All the columns are string categorical values.<br/>\n",
    "The number of unique values is 2 for Class and 3 for the rest.<br/>\n",
    "The value N (Negative) is most frequent in the dataset across all columns.<br/>\n",
    "The number of entries on bankruptcy (250-143=107) is lesser than non-bankruptcy (143). The target is somewhat balanced.<br/>"
   ]
  },
  {
   "cell_type": "code",
   "execution_count": 8,
   "metadata": {},
   "outputs": [],
   "source": [
    "# Answer 2\n",
    "\n",
    "# Encoding the independent features\n",
    "for feature in bank_df.drop('Class', axis=1).columns: \n",
    "    if bank_df[feature].dtype == 'object':\n",
    "        bank_df[feature] = pd.Categorical(bank_df[feature]).codes"
   ]
  },
  {
   "cell_type": "code",
   "execution_count": 9,
   "metadata": {},
   "outputs": [
    {
     "data": {
      "text/plain": [
       "<seaborn.axisgrid.PairGrid at 0x1fa0bd59688>"
      ]
     },
     "execution_count": 9,
     "metadata": {},
     "output_type": "execute_result"
    },
    {
     "data": {
      "image/png": "[encoded data removed]",
      "text/plain": [
       "<Figure size 1130.38x1080 with 42 Axes>"
      ]
     },
     "metadata": {
      "needs_background": "light"
     },
     "output_type": "display_data"
    }
   ],
   "source": [
    "# Pairplotting to see the current relationship among various attributes\n",
    "sns.pairplot(bank_df, diag_kind='kde', hue='Class') "
   ]
  },
  {
   "cell_type": "markdown",
   "metadata": {},
   "source": [
    "There is no linear relationship among independent attributes. <br/>\n",
    "Also, it looks like the data has come from 3 different gaussians for each class. So, it seems to have at least 6 clusters in all."
   ]
  },
  {
   "cell_type": "code",
   "execution_count": 10,
   "metadata": {},
   "outputs": [
    {
     "data": {
      "text/plain": [
       "IR         int8\n",
       "MR         int8\n",
       "FF         int8\n",
       "CR         int8\n",
       "CO         int8\n",
       "OR         int8\n",
       "Class    object\n",
       "dtype: object"
      ]
     },
     "execution_count": 10,
     "metadata": {},
     "output_type": "execute_result"
    }
   ],
   "source": [
    "# Checking the datatypes again\n",
    "bank_df.dtypes"
   ]
  },
  {
   "cell_type": "code",
   "execution_count": 11,
   "metadata": {},
   "outputs": [
    {
     "data": {
      "text/html": [
       "<div>\n",
       "<style scoped>\n",
       "    .dataframe tbody tr th:only-of-type {\n",
       "        vertical-align: middle;\n",
       "    }\n",
       "\n",
       "    .dataframe tbody tr th {\n",
       "        vertical-align: top;\n",
       "    }\n",
       "\n",
       "    .dataframe thead th {\n",
       "        text-align: right;\n",
       "    }\n",
       "</style>\n",
       "<table border=\"1\" class=\"dataframe\">\n",
       "  <thead>\n",
       "    <tr style=\"text-align: right;\">\n",
       "      <th></th>\n",
       "      <th>IR</th>\n",
       "      <th>MR</th>\n",
       "      <th>FF</th>\n",
       "      <th>CR</th>\n",
       "      <th>CO</th>\n",
       "      <th>OR</th>\n",
       "      <th>Class</th>\n",
       "    </tr>\n",
       "  </thead>\n",
       "  <tbody>\n",
       "    <tr>\n",
       "      <td>0</td>\n",
       "      <td>2</td>\n",
       "      <td>2</td>\n",
       "      <td>0</td>\n",
       "      <td>0</td>\n",
       "      <td>0</td>\n",
       "      <td>2</td>\n",
       "      <td>NB</td>\n",
       "    </tr>\n",
       "    <tr>\n",
       "      <td>1</td>\n",
       "      <td>1</td>\n",
       "      <td>1</td>\n",
       "      <td>0</td>\n",
       "      <td>0</td>\n",
       "      <td>0</td>\n",
       "      <td>1</td>\n",
       "      <td>NB</td>\n",
       "    </tr>\n",
       "    <tr>\n",
       "      <td>2</td>\n",
       "      <td>0</td>\n",
       "      <td>0</td>\n",
       "      <td>0</td>\n",
       "      <td>0</td>\n",
       "      <td>0</td>\n",
       "      <td>0</td>\n",
       "      <td>NB</td>\n",
       "    </tr>\n",
       "    <tr>\n",
       "      <td>3</td>\n",
       "      <td>2</td>\n",
       "      <td>2</td>\n",
       "      <td>2</td>\n",
       "      <td>2</td>\n",
       "      <td>2</td>\n",
       "      <td>2</td>\n",
       "      <td>NB</td>\n",
       "    </tr>\n",
       "    <tr>\n",
       "      <td>4</td>\n",
       "      <td>1</td>\n",
       "      <td>1</td>\n",
       "      <td>2</td>\n",
       "      <td>2</td>\n",
       "      <td>2</td>\n",
       "      <td>1</td>\n",
       "      <td>NB</td>\n",
       "    </tr>\n",
       "  </tbody>\n",
       "</table>\n",
       "</div>"
      ],
      "text/plain": [
       "   IR  MR  FF  CR  CO  OR Class\n",
       "0   2   2   0   0   0   2    NB\n",
       "1   1   1   0   0   0   1    NB\n",
       "2   0   0   0   0   0   0    NB\n",
       "3   2   2   2   2   2   2    NB\n",
       "4   1   1   2   2   2   1    NB"
      ]
     },
     "execution_count": 11,
     "metadata": {},
     "output_type": "execute_result"
    }
   ],
   "source": [
    "# Confirming that all the required attributes are encoded\n",
    "bank_df.head()"
   ]
  },
  {
   "cell_type": "code",
   "execution_count": 12,
   "metadata": {},
   "outputs": [],
   "source": [
    "# Answer 3\n",
    "\n",
    "# Separating the dependant variable from the rest of the train data\n",
    "X = bank_df.drop('Class', axis=1)\n",
    "y = bank_df['Class']"
   ]
  },
  {
   "cell_type": "code",
   "execution_count": 13,
   "metadata": {},
   "outputs": [],
   "source": [
    "# Answer 4\n",
    "\n",
    "# Splitting the dataset into training and test data\n",
    "test = 0.2\n",
    "seed = 7     \n",
    "X_train, X_test, y_train, y_test = train_test_split(X, y, test_size = test, random_state = seed)"
   ]
  },
  {
   "cell_type": "code",
   "execution_count": 14,
   "metadata": {},
   "outputs": [],
   "source": [
    "# Answer 5\n",
    "\n",
    "scaler = StandardScaler() \n",
    "scaler.fit(X_train)    # Fitting the scaler object using the train data\n",
    "X_train_scaled = scaler.transform(X_train)    # Transform the train set\n",
    "X_train.loc[:,:] = X_train_scaled \n",
    "pca = PCA().fit(X_train)    # Applying PCA on independent features of train data"
   ]
  },
  {
   "cell_type": "code",
   "execution_count": 15,
   "metadata": {},
   "outputs": [
    {
     "data": {
      "image/png": "[encoded data removed]",
      "text/plain": [
       "<Figure size 1080x504 with 1 Axes>"
      ]
     },
     "metadata": {
      "needs_background": "light"
     },
     "output_type": "display_data"
    }
   ],
   "source": [
    "# Answer 6\n",
    "\n",
    "# Plotting the cumulative variance to decide the optimal number of principal components\n",
    "plt.figure(figsize= (15,7))\n",
    "plt.step(x = list(range(6)), y=np.cumsum(pca.explained_variance_ratio_), linewidth = 4)\n",
    "plt.show()"
   ]
  },
  {
   "cell_type": "markdown",
   "metadata": {},
   "source": [
    "PCA does not seem to capture enough variance with a reduced set of dimensions. "
   ]
  },
  {
   "cell_type": "code",
   "execution_count": 16,
   "metadata": {},
   "outputs": [
    {
     "name": "stdout",
     "output_type": "stream",
     "text": [
      "Total number of dimensions in the dataset:  6\n",
      "Number of dimensions after PCA:  6\n"
     ]
    }
   ],
   "source": [
    "# Answer 7\n",
    "\n",
    "# PCA object, which when fitted will generate principle components such that they capture 95% of the variance \n",
    "pca = PCA(.95)  \n",
    "pca = pca.fit(X_train)\n",
    "\n",
    "# Transforming the train data using PCA\n",
    "X_train_pca = pca.transform(X_train)\n",
    "\n",
    "print('Total number of dimensions in the dataset: ', X_train.shape[1])\n",
    "print('Number of dimensions after PCA: ', X_train_pca.shape[1])"
   ]
  },
  {
   "cell_type": "markdown",
   "metadata": {},
   "source": [
    "PCA does not seem to work well in this case. If we need to have more than 90% of variance, then we will have to keep all the dimensions."
   ]
  },
  {
   "cell_type": "code",
   "execution_count": 17,
   "metadata": {},
   "outputs": [],
   "source": [
    "# Answer 8\n",
    "\n",
    "# Trying different numbers of clusters\n",
    "clusters=range(1,10)\n",
    "meanDistortions=[]\n",
    "\n",
    "for k in clusters:\n",
    "    model=KMeans(n_clusters=k, random_state=seed)\n",
    "    # Applying KMeans on PCA-transformed data\n",
    "    model.fit(X_train_pca)\n",
    "    prediction=model.predict(X_train_pca)\n",
    "    meanDistortions.append(sum(np.min(cdist(X_train_pca, model.cluster_centers_, 'euclidean'), axis=1)) / X_train_pca.shape[0])\n"
   ]
  },
  {
   "cell_type": "code",
   "execution_count": 18,
   "metadata": {},
   "outputs": [
    {
     "data": {
      "text/plain": [
       "Text(0.5, 1.0, 'Selecting k with the Elbow Method')"
      ]
     },
     "execution_count": 18,
     "metadata": {},
     "output_type": "execute_result"
    },
    {
     "data": {
      "image/png": "[encoded data removed]",
      "text/plain": [
       "<Figure size 432x288 with 1 Axes>"
      ]
     },
     "metadata": {
      "needs_background": "light"
     },
     "output_type": "display_data"
    }
   ],
   "source": [
    "# Answer 9\n",
    "\n",
    "# Selecting optimal number of clusters through elbow plot\n",
    "plt.plot(clusters, meanDistortions, 'bx-')\n",
    "plt.xlabel('k')\n",
    "plt.ylabel('Average distortion')\n",
    "plt.title('Selecting k with the Elbow Method')"
   ]
  },
  {
   "cell_type": "code",
   "execution_count": 19,
   "metadata": {},
   "outputs": [],
   "source": [
    "# Forming clusters out of the train data\n",
    "# Using k = 7 as there seems to be an elbow there\n",
    "kmeans_model=KMeans(n_clusters=7, random_state=seed)\n",
    "kmeans_model.fit(X_train_pca)\n",
    "\n",
    "prediction=kmeans_model.predict(X_train_pca)"
   ]
  },
  {
   "cell_type": "code",
   "execution_count": 20,
   "metadata": {},
   "outputs": [
    {
     "name": "stdout",
     "output_type": "stream",
     "text": [
      "Groups Assigned:\n"
     ]
    },
    {
     "data": {
      "text/html": [
       "<div>\n",
       "<style scoped>\n",
       "    .dataframe tbody tr th:only-of-type {\n",
       "        vertical-align: middle;\n",
       "    }\n",
       "\n",
       "    .dataframe tbody tr th {\n",
       "        vertical-align: top;\n",
       "    }\n",
       "\n",
       "    .dataframe thead th {\n",
       "        text-align: right;\n",
       "    }\n",
       "</style>\n",
       "<table border=\"1\" class=\"dataframe\">\n",
       "  <thead>\n",
       "    <tr style=\"text-align: right;\">\n",
       "      <th></th>\n",
       "      <th>IR</th>\n",
       "      <th>MR</th>\n",
       "      <th>FF</th>\n",
       "      <th>CR</th>\n",
       "      <th>CO</th>\n",
       "      <th>OR</th>\n",
       "      <th>Group</th>\n",
       "    </tr>\n",
       "  </thead>\n",
       "  <tbody>\n",
       "    <tr>\n",
       "      <td>240</td>\n",
       "      <td>0.057477</td>\n",
       "      <td>-0.014144</td>\n",
       "      <td>0.057236</td>\n",
       "      <td>-1.321100</td>\n",
       "      <td>-0.168646</td>\n",
       "      <td>-1.494554</td>\n",
       "      <td>3</td>\n",
       "    </tr>\n",
       "    <tr>\n",
       "      <td>109</td>\n",
       "      <td>0.057477</td>\n",
       "      <td>-0.014144</td>\n",
       "      <td>-1.373673</td>\n",
       "      <td>-1.321100</td>\n",
       "      <td>-1.517812</td>\n",
       "      <td>-0.123404</td>\n",
       "      <td>2</td>\n",
       "    </tr>\n",
       "    <tr>\n",
       "      <td>46</td>\n",
       "      <td>1.334735</td>\n",
       "      <td>-1.428499</td>\n",
       "      <td>1.488146</td>\n",
       "      <td>1.231750</td>\n",
       "      <td>1.180521</td>\n",
       "      <td>-0.123404</td>\n",
       "      <td>5</td>\n",
       "    </tr>\n",
       "    <tr>\n",
       "      <td>120</td>\n",
       "      <td>0.057477</td>\n",
       "      <td>-0.014144</td>\n",
       "      <td>-1.373673</td>\n",
       "      <td>1.231750</td>\n",
       "      <td>1.180521</td>\n",
       "      <td>-0.123404</td>\n",
       "      <td>4</td>\n",
       "    </tr>\n",
       "    <tr>\n",
       "      <td>247</td>\n",
       "      <td>-1.219781</td>\n",
       "      <td>-0.014144</td>\n",
       "      <td>0.057236</td>\n",
       "      <td>-0.044675</td>\n",
       "      <td>-0.168646</td>\n",
       "      <td>-0.123404</td>\n",
       "      <td>0</td>\n",
       "    </tr>\n",
       "  </tbody>\n",
       "</table>\n",
       "</div>"
      ],
      "text/plain": [
       "           IR        MR        FF        CR        CO        OR  Group\n",
       "240  0.057477 -0.014144  0.057236 -1.321100 -0.168646 -1.494554      3\n",
       "109  0.057477 -0.014144 -1.373673 -1.321100 -1.517812 -0.123404      2\n",
       "46   1.334735 -1.428499  1.488146  1.231750  1.180521 -0.123404      5\n",
       "120  0.057477 -0.014144 -1.373673  1.231750  1.180521 -0.123404      4\n",
       "247 -1.219781 -0.014144  0.057236 -0.044675 -0.168646 -0.123404      0"
      ]
     },
     "execution_count": 20,
     "metadata": {},
     "output_type": "execute_result"
    }
   ],
   "source": [
    "# Answer 10\n",
    "\n",
    "# Append the prediction in a new column 'Group' in train data\n",
    "X_train['Group'] = prediction\n",
    "\n",
    "print(\"Groups Assigned:\")\n",
    "X_train.head()"
   ]
  },
  {
   "cell_type": "code",
   "execution_count": 21,
   "metadata": {},
   "outputs": [],
   "source": [
    "# Answer 11\n",
    "\n",
    "# Scaling and transforming the test data using the same PCA object\n",
    "X_test_scaled = scaler.transform(X_test)\n",
    "X_test.loc[:,:] = X_test_scaled\n",
    "X_test_pca = pca.transform(X_test)"
   ]
  },
  {
   "cell_type": "code",
   "execution_count": 22,
   "metadata": {},
   "outputs": [
    {
     "name": "stdout",
     "output_type": "stream",
     "text": [
      "Groups Assigned:\n"
     ]
    },
    {
     "data": {
      "text/html": [
       "<div>\n",
       "<style scoped>\n",
       "    .dataframe tbody tr th:only-of-type {\n",
       "        vertical-align: middle;\n",
       "    }\n",
       "\n",
       "    .dataframe tbody tr th {\n",
       "        vertical-align: top;\n",
       "    }\n",
       "\n",
       "    .dataframe thead th {\n",
       "        text-align: right;\n",
       "    }\n",
       "</style>\n",
       "<table border=\"1\" class=\"dataframe\">\n",
       "  <thead>\n",
       "    <tr style=\"text-align: right;\">\n",
       "      <th></th>\n",
       "      <th>IR</th>\n",
       "      <th>MR</th>\n",
       "      <th>FF</th>\n",
       "      <th>CR</th>\n",
       "      <th>CO</th>\n",
       "      <th>OR</th>\n",
       "      <th>Group</th>\n",
       "    </tr>\n",
       "  </thead>\n",
       "  <tbody>\n",
       "    <tr>\n",
       "      <td>148</td>\n",
       "      <td>0.057477</td>\n",
       "      <td>-0.014144</td>\n",
       "      <td>0.057236</td>\n",
       "      <td>-1.321100</td>\n",
       "      <td>-0.168646</td>\n",
       "      <td>-1.494554</td>\n",
       "      <td>3</td>\n",
       "    </tr>\n",
       "    <tr>\n",
       "      <td>219</td>\n",
       "      <td>-1.219781</td>\n",
       "      <td>-1.428499</td>\n",
       "      <td>0.057236</td>\n",
       "      <td>-0.044675</td>\n",
       "      <td>-0.168646</td>\n",
       "      <td>-0.123404</td>\n",
       "      <td>0</td>\n",
       "    </tr>\n",
       "    <tr>\n",
       "      <td>94</td>\n",
       "      <td>1.334735</td>\n",
       "      <td>-1.428499</td>\n",
       "      <td>1.488146</td>\n",
       "      <td>-0.044675</td>\n",
       "      <td>1.180521</td>\n",
       "      <td>-0.123404</td>\n",
       "      <td>5</td>\n",
       "    </tr>\n",
       "    <tr>\n",
       "      <td>84</td>\n",
       "      <td>-1.219781</td>\n",
       "      <td>1.400211</td>\n",
       "      <td>-1.373673</td>\n",
       "      <td>-1.321100</td>\n",
       "      <td>-1.517812</td>\n",
       "      <td>1.247747</td>\n",
       "      <td>6</td>\n",
       "    </tr>\n",
       "    <tr>\n",
       "      <td>3</td>\n",
       "      <td>1.334735</td>\n",
       "      <td>1.400211</td>\n",
       "      <td>1.488146</td>\n",
       "      <td>1.231750</td>\n",
       "      <td>1.180521</td>\n",
       "      <td>1.247747</td>\n",
       "      <td>5</td>\n",
       "    </tr>\n",
       "  </tbody>\n",
       "</table>\n",
       "</div>"
      ],
      "text/plain": [
       "           IR        MR        FF        CR        CO        OR  Group\n",
       "148  0.057477 -0.014144  0.057236 -1.321100 -0.168646 -1.494554      3\n",
       "219 -1.219781 -1.428499  0.057236 -0.044675 -0.168646 -0.123404      0\n",
       "94   1.334735 -1.428499  1.488146 -0.044675  1.180521 -0.123404      5\n",
       "84  -1.219781  1.400211 -1.373673 -1.321100 -1.517812  1.247747      6\n",
       "3    1.334735  1.400211  1.488146  1.231750  1.180521  1.247747      5"
      ]
     },
     "execution_count": 22,
     "metadata": {},
     "output_type": "execute_result"
    }
   ],
   "source": [
    "# Answer 12\n",
    "\n",
    "# Using the same KMeans object to assign predictions to test data\n",
    "prediction=kmeans_model.predict(X_test_pca)\n",
    "X_test['Group'] = prediction\n",
    "print(\"Groups Assigned:\")\n",
    "X_test.head()"
   ]
  },
  {
   "cell_type": "code",
   "execution_count": 23,
   "metadata": {},
   "outputs": [
    {
     "name": "stdout",
     "output_type": "stream",
     "text": [
      "Best Hyper Parameters:  {'C': 2, 'gamma': 'auto', 'kernel': 'rbf'}\n"
     ]
    }
   ],
   "source": [
    "# Answer 13, 14\n",
    "\n",
    "# Finding the best hyper-parameters for SVC using GridSearchCV\n",
    "model = SVC(random_state=seed)\n",
    "params = {'C': [0.01, 0.1, 0.5, 1, 2, 4, 6, 8, 10], \n",
    "          'kernel': ['linear', 'rbf'],\n",
    "          'gamma' : ['auto', 'scale' ]}\n",
    "model_new = GridSearchCV(model, param_grid=params, cv=10, iid=False)\n",
    "model_new.fit(X_train, y_train)\n",
    "print(\"Best Hyper Parameters: \", model_new.best_params_)"
   ]
  },
  {
   "cell_type": "code",
   "execution_count": 24,
   "metadata": {},
   "outputs": [],
   "source": [
    "# Building an SVC model with the best hyper-parameters\n",
    "svm = SVC(C=2, gamma='auto', kernel='rbf', random_state=seed)"
   ]
  },
  {
   "cell_type": "code",
   "execution_count": 25,
   "metadata": {},
   "outputs": [
    {
     "name": "stdout",
     "output_type": "stream",
     "text": [
      "Confusion matrix:\n",
      "[[16  0]\n",
      " [ 0 34]]\n",
      "Score:  1.0\n",
      "Recall:  1.0\n",
      "Precision:  1.0\n",
      "Specificity:  1.0\n",
      "f1_score:  1.0\n"
     ]
    }
   ],
   "source": [
    "# A function to run the model and give us the accuracy scores\n",
    "def fit_n_print(model, X_train, X_test, y_train, y_test):  \n",
    "    model.fit(X_train, y_train)   # Fit the model with the train data\n",
    "    pred = model.predict(X_test)  # Make predictions on the test set\n",
    "    print(\"Confusion matrix:\")\n",
    "    print(metrics.confusion_matrix(y_test, pred))\n",
    "    score = round(model.score(X_test, y_test), 3)   # Compute accuracy score for test set\n",
    "    tn, fp, fn, tp = metrics.confusion_matrix(y_test, pred).ravel()  # Compute the confusion matrix \n",
    "    recall = round(tp/(tp+fn), 3)   \n",
    "    precision = round(tp/(tp+fp), 3)  \n",
    "    specificity =round(tn/(tn+fp),3) \n",
    "    f1_score =  round(2*precision*recall/(precision + recall), 3)\n",
    "    return score, recall, precision, specificity, f1_score  # Return all the metrics\n",
    "\n",
    "\n",
    "metrics_svc = fit_n_print(svm, X_train, X_test, y_train, y_test)\n",
    "print(\"Score: \", metrics_svc[0])\n",
    "print(\"Recall: \", metrics_svc[1])\n",
    "print(\"Precision: \", metrics_svc[2])\n",
    "print(\"Specificity: \", metrics_svc[3])\n",
    "print(\"f1_score: \", metrics_svc[4])"
   ]
  },
  {
   "cell_type": "markdown",
   "metadata": {},
   "source": [
    "SVM performs extremely well with a perfect score on both classes.<br/>\n",
    "Thus, we can say that the model will generalize well in production."
   ]
  },
  {
   "cell_type": "code",
   "execution_count": 26,
   "metadata": {},
   "outputs": [
    {
     "name": "stdout",
     "output_type": "stream",
     "text": [
      "Confusion matrix:\n",
      "[[15  1]\n",
      " [ 9 25]]\n",
      "Score:  0.8\n",
      "Recall:  0.735\n",
      "Precision:  0.962\n",
      "Specificity:  0.938\n",
      "f1_score:  0.833\n"
     ]
    }
   ],
   "source": [
    "# Comparing it with a Logistic model\n",
    "\n",
    "log_model = LogisticRegression()\n",
    "metrics_log = fit_n_print(log_model, X_train, X_test, y_train, y_test)\n",
    "print(\"Score: \", metrics_log[0])\n",
    "print(\"Recall: \", metrics_log[1])\n",
    "print(\"Precision: \", metrics_log[2])\n",
    "print(\"Specificity: \", metrics_log[3])\n",
    "print(\"f1_score: \", metrics_log[4])"
   ]
  },
  {
   "cell_type": "markdown",
   "metadata": {},
   "source": [
    "Logistic model gives an overall accuracy of ~80% and does not give a great recall. <br/>\n",
    "SVC is a better performer in this case."
   ]
  }
 ],
 "metadata": {
  "kernelspec": {
   "display_name": "Python 3",
   "language": "python",
   "name": "python3"
  },
  "language_info": {
   "codemirror_mode": {
    "name": "ipython",
    "version": 3
   },
   "file_extension": ".py",
   "mimetype": "text/x-python",
   "name": "python",
   "nbconvert_exporter": "python",
   "pygments_lexer": "ipython3",
   "version": "3.7.4"
  }
 },
 "nbformat": 4,
 "nbformat_minor": 2
}
